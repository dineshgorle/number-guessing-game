{
  "nbformat": 4,
  "nbformat_minor": 0,
  "metadata": {
    "colab": {
      "provenance": [],
      "mount_file_id": "183Bm3owHaM-QtTdr2S4Ae5gzNcVC0pMd",
      "authorship_tag": "ABX9TyPBf1Z30uh1sXr6CJRT8y4+",
      "include_colab_link": true
    },
    "kernelspec": {
      "name": "python3",
      "display_name": "Python 3"
    },
    "language_info": {
      "name": "python"
    }
  },
  "cells": [
    {
      "cell_type": "markdown",
      "metadata": {
        "id": "view-in-github",
        "colab_type": "text"
      },
      "source": [
        "<a href=\"https://colab.research.google.com/github/dineshgorle/number-guessing-game/blob/main/number_guessing_game_pynb.ipynb\" target=\"_parent\"><img src=\"https://colab.research.google.com/assets/colab-badge.svg\" alt=\"Open In Colab\"/></a>"
      ]
    },
    {
      "cell_type": "code",
      "source": [
        "import random\n",
        "\n",
        "print(\"Hi welcome to the game, This is a number guessing game.\\nYou got 7 chances to guess the number. Let's start the game\")\n",
        "\n",
        "number_to_guess = random.randrange(100)\n",
        "\n",
        "chances = 7\n",
        "\n",
        "guess_counter = 0\n",
        "\n",
        "while guess_counter < chances:\n",
        "\n",
        "    guess_counter += 1\n",
        "    my_guess = int(input('Please Enter your Guess : '))\n",
        "\n",
        "    if my_guess == number_to_guess:\n",
        "        print(f'The number is {number_to_guess} and you found it right !! in the {guess_counter} attempt')\n",
        "        break\n",
        "\n",
        "    elif guess_counter >= chances and my_guess != number_to_guess:\n",
        "        print(f'Oops sorry, The number is {number_to_guess} better luck next time')\n",
        "\n",
        "    elif my_guess > number_to_guess:\n",
        "        print('Your guess is higher ')\n",
        "\n",
        "    elif my_guess < number_to_guess:\n",
        "        print('Your guess is lesser')"
      ],
      "metadata": {
        "colab": {
          "base_uri": "https://localhost:8080/"
        },
        "id": "msJ9rL576G5y",
        "outputId": "c9e8d39c-2e8f-40af-8aec-c77b6a3345e9"
      },
      "execution_count": 2,
      "outputs": [
        {
          "output_type": "stream",
          "name": "stdout",
          "text": [
            "Hi welcome to the game, This is a number guessing game.\n",
            "You got 7 chances to guess the number. Let's start the game\n",
            "Please Enter your Guess : 2\n",
            "Your guess is lesser\n",
            "Please Enter your Guess : 25\n",
            "Your guess is lesser\n",
            "Please Enter your Guess : 78\n",
            "Your guess is higher \n",
            "Please Enter your Guess : 50\n",
            "Your guess is lesser\n",
            "Please Enter your Guess : 60\n",
            "Your guess is higher \n",
            "Please Enter your Guess : 55\n",
            "Your guess is higher \n",
            "Please Enter your Guess : 54\n",
            "The number is 54 and you found it right !! in the 7 attempt\n"
          ]
        }
      ]
    }
  ]
}